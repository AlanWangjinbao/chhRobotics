{
 "cells": [
  {
   "cell_type": "markdown",
   "metadata": {},
   "source": [
    "## PurePursuit实现轨迹跟踪实现轨迹跟踪\n",
    "参考[博客](https://blog.csdn.net/weixin_42301220/article/details/124882144?spm=1001.2014.3001.5501)"
   ]
  },
  {
   "cell_type": "markdown",
   "metadata": {},
   "source": [
    "假设无人车模型如下\n",
    "\n",
    "![在这里插入图片描述](https://img-blog.csdnimg.cn/98de36e913bd4fcd86b4f3ac933b0afc.png)"
   ]
  },
  {
   "cell_type": "code",
   "execution_count": 204,
   "metadata": {},
   "outputs": [],
   "source": [
    "import numpy as np\n",
    "import matplotlib\n",
    "import matplotlib.pyplot as plt\n",
    "%matplotlib inline\n",
    "# %matplotlib notebook\n",
    "# %matplotlib qt5\n",
    "# %matplotlib auto\n"
   ]
  },
  {
   "cell_type": "code",
   "execution_count": 205,
   "metadata": {},
   "outputs": [],
   "source": [
    "import math\n",
    "class KinematicModel_3:\n",
    "  \"\"\"假设控制量为转向角delta_f和加速度a\n",
    "  \"\"\"\n",
    "\n",
    "  def __init__(self, x, y, psi, v, L, dt):\n",
    "    self.x = x\n",
    "    self.y = y\n",
    "    self.psi = psi\n",
    "    self.v = v\n",
    "    self.L = L\n",
    "    # 实现是离散的模型\n",
    "    self.dt = dt\n",
    "\n",
    "  def update_state(self, a, delta_f):\n",
    "    self.x = self.x+self.v*math.cos(self.psi)*self.dt\n",
    "    self.y = self.y+self.v*math.sin(self.psi)*self.dt\n",
    "    self.psi = self.psi+self.v/self.L*math.tan(delta_f)*self.dt\n",
    "    self.v = self.v+a*self.dt\n",
    "\n",
    "  def get_state(self):\n",
    "    return self.x, self.y, self.psi, self.v\n",
    "\n",
    "\n"
   ]
  },
  {
   "cell_type": "markdown",
   "metadata": {},
   "source": [
    "参数设置"
   ]
  },
  {
   "cell_type": "code",
   "execution_count": 206,
   "metadata": {},
   "outputs": [],
   "source": [
    "L=2 # 车辆轴距，单位：m\n",
    "v = 2 # 初始速度\n",
    "x_0=0 # 初始x\n",
    "y_0=-1 #初始y\n",
    "psi_0=0 # 初始航向角\n",
    "dt=0.1 # 时间间隔，单位：s\n",
    "k = 0.1 # 前视距离系数\n",
    "c=2 # 前视距离"
   ]
  },
  {
   "cell_type": "markdown",
   "metadata": {},
   "source": [
    "搜索目标临近点"
   ]
  },
  {
   "cell_type": "code",
   "execution_count": 207,
   "metadata": {},
   "outputs": [],
   "source": [
    "def cal_target_index(robot_state,refer_path):\n",
    "    \"\"\"得到临近的路点\n",
    "\n",
    "    Args:\n",
    "        robot_state (_type_): 当前车辆位置\n",
    "        refer_path (_type_): 参考轨迹（数组）\n",
    "\n",
    "    Returns:\n",
    "        _type_: 最近的路点的索引\n",
    "    \"\"\"\n",
    "    dists = []\n",
    "    for xy in refer_path:\n",
    "        dis = np.linalg.norm(robot_state-xy)\n",
    "        dists.append(dis)\n",
    "\n",
    "    min_index = np.argmin(dists)\n",
    "    delta_l = 0.\n",
    "    # 这里还不是很理解\n",
    "    while l_d > delta_l and (min_index+1) < len(refer_path):\n",
    "        delta_l += np.linalg.norm(refer_path[min_index+1]-refer_path[min_index])\n",
    "        min_index+=1\n",
    "    return min_index"
   ]
  },
  {
   "cell_type": "markdown",
   "metadata": {},
   "source": [
    "pure pursuit"
   ]
  },
  {
   "cell_type": "code",
   "execution_count": 208,
   "metadata": {},
   "outputs": [],
   "source": [
    "def pure_pursuit_control(robot_state,current_ref_point):\n",
    "    \"\"\"pure pursuit\n",
    "\n",
    "    Args:\n",
    "        robot_state (_type_): 车辆位置\n",
    "        current_ref_point (_type_): 当前参考路点\n",
    "    return:返回前轮转向角delta\n",
    "    \"\"\"\n",
    "    alpha = math.atan2(current_ref_point[1]-robot_state[1], current_ref_point[0]-robot_state[0])-ugv.psi\n",
    "    delta = math.atan2(2*L*np.sin(alpha),l_d)\n",
    "    return delta\n",
    "    "
   ]
  },
  {
   "cell_type": "markdown",
   "metadata": {},
   "source": [
    "主函数"
   ]
  },
  {
   "cell_type": "code",
   "execution_count": 209,
   "metadata": {},
   "outputs": [
    {
     "data": {
      "image/png": "[encoded data removed]",
      "text/plain": [
       "<Figure size 432x288 with 1 Axes>"
      ]
     },
     "metadata": {
      "needs_background": "light"
     },
     "output_type": "display_data"
    }
   ],
   "source": [
    "\n",
    "\n",
    "# set reference trajectory\n",
    "refer_path = np.zeros((1000, 2))\n",
    "refer_path[:,0] = np.linspace(0, 100, 1000) # 直线\n",
    "refer_path[:,1] = 2*np.sin(refer_path[:,0]/3.0)+2.5*np.cos(refer_path[:,0]/2.0) # 生成正弦轨迹\n",
    "plt.figure(1)\n",
    "# plt.axis([0,18,-3, 3])\n",
    "plt.plot(refer_path[:,0], refer_path[:,1], '-.b', linewidth=1.0)\n",
    "\n",
    "\n",
    "ugv = KinematicModel_3(x_0,y_0,psi_0,v,L,dt)\n",
    "\n",
    "x_ = []\n",
    "y_ = []\n",
    "for i in range(600):\n",
    "    robot_state = np.zeros(2)\n",
    "    robot_state[0] = ugv.x\n",
    "    robot_state[1] = ugv.y\n",
    "    l_d = k*ugv.v+c # 前视距离\n",
    "    ind = cal_target_index(robot_state,refer_path)  # 搜索最临近的路点\n",
    "\n",
    "\n",
    "    delta = pure_pursuit_control(robot_state,refer_path[ind])\n",
    "\n",
    "    ugv.update_state(0,delta) # 加速度设为0\n",
    "\n",
    "    x_.append(ugv.x)\n",
    "    y_.append(ugv.y)\n",
    "plt.plot(x_,y_,'r')\n",
    "plt.show()\n"
   ]
  }
 ],
 "metadata": {
  "interpreter": {
   "hash": "0c7484b3574347463e16b31029466871583b0d4e5c4ad861e8848f2d3746b4de"
  },
  "kernelspec": {
   "display_name": "Python 3.8.12 ('gobigger')",
   "language": "python",
   "name": "python3"
  },
  "language_info": {
   "codemirror_mode": {
    "name": "ipython",
    "version": 3
   },
   "file_extension": ".py",
   "mimetype": "text/x-python",
   "name": "python",
   "nbconvert_exporter": "python",
   "pygments_lexer": "ipython3",
   "version": "3.8.12"
  },
  "orig_nbformat": 4
 },
 "nbformat": 4,
 "nbformat_minor": 2
}
