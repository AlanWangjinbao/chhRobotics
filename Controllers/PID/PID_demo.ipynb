{
 "cells": [
  {
   "cell_type": "markdown",
   "metadata": {},
   "source": [
    "## PID实现轨迹跟踪"
   ]
  },
  {
   "cell_type": "markdown",
   "metadata": {},
   "source": [
    "假设无人车模型如下\n",
    "\n",
    "![在这里插入图片描述](https://img-blog.csdnimg.cn/98de36e913bd4fcd86b4f3ac933b0afc.png)"
   ]
  },
  {
   "cell_type": "code",
   "execution_count": 16,
   "metadata": {},
   "outputs": [],
   "source": [
    "import numpy as np\n",
    "import matplotlib\n",
    "import matplotlib.pyplot as plt\n",
    "%matplotlib inline\n",
    "# %matplotlib notebook\n",
    "# %matplotlib qt5\n",
    "# %matplotlib auto\n"
   ]
  },
  {
   "cell_type": "code",
   "execution_count": 17,
   "metadata": {},
   "outputs": [],
   "source": [
    "import math\n",
    "class KinematicModel_3:\n",
    "  \"\"\"假设控制量为转向角delta_f和加速度a\n",
    "  \"\"\"\n",
    "\n",
    "  def __init__(self, x, y, psi, v, L, dt):\n",
    "    self.x = x\n",
    "    self.y = y\n",
    "    self.psi = psi\n",
    "    self.v = v\n",
    "    self.L = L\n",
    "    # 实现是离散的模型\n",
    "    self.dt = dt\n",
    "\n",
    "  def update_state(self, a, delta_f):\n",
    "    self.x = self.x+self.v*math.cos(self.psi)*self.dt\n",
    "    self.y = self.y+self.v*math.sin(self.psi)*self.dt\n",
    "    self.psi = self.psi+self.v/self.L*math.tan(delta_f)*self.dt\n",
    "    self.v = self.v+a*self.dt\n",
    "\n",
    "  def get_state(self):\n",
    "    return self.x, self.y, self.psi, self.v\n",
    "\n",
    "\n"
   ]
  },
  {
   "cell_type": "markdown",
   "metadata": {},
   "source": [
    "导入PID控制器"
   ]
  },
  {
   "cell_type": "code",
   "execution_count": 18,
   "metadata": {},
   "outputs": [],
   "source": [
    "\n",
    "\n",
    "from PID_controller import PID_posi_2,PID_inc\n",
    "## 位置式\n",
    "PID = PID_posi_2(k=[2, 0.025, 20], target=0, upper=np.pi/6, lower=-np.pi/6)\n",
    "## 增量式\n",
    "# PID = PID_inc(k=[1, 1, 15], target=0, upper=np.pi/6, lower=-np.pi/6)\n",
    "\n"
   ]
  },
  {
   "cell_type": "markdown",
   "metadata": {},
   "source": [
    "KDTree说明\n",
    "参考[资料](https://www.cnblogs.com/yibeimingyue/p/13797529.html#:~:text=%E7%94%A8%E6%B3%95%EF%BC%9A%20KDTree.query%28self%2C%20x%2C%20k%3D1%2C%20eps%3D0%2C%20p%3D2%2C%20distance_upper_bound%3Dinf%29%20%E6%9F%A5%E8%AF%A2kd-tree%E9%99%84%E8%BF%91%E7%9A%84%E9%82%BB%E5%B1%85,x%EF%BC%9Aarray_like%20python%20scipy%20spatial.KDTree.query%E7%94%A8%E6%B3%95%E5%8F%8A%E4%BB%A3%E7%A0%81%E7%A4%BA%E4%BE%8B%20-%20%E4%B8%80%E6%9D%AF%E6%98%8E%E6%9C%88%20-%20%E5%8D%9A%E5%AE%A2%E5%9B%AD)\n",
    "\n",
    "KDTree在这里的作用是用于搜索最临近的航路点\n",
    "\n",
    "这部分的功能也可以使用以下函数实现"
   ]
  },
  {
   "cell_type": "code",
   "execution_count": 19,
   "metadata": {},
   "outputs": [],
   "source": [
    "def cal_target_index(robot_state,refer_path):\n",
    "    \"\"\"得到临近的路点\n",
    "\n",
    "    Args:\n",
    "        robot_state (_type_): 当前车辆位置\n",
    "        refer_path (_type_): 参考轨迹（数组）\n",
    "\n",
    "    Returns:\n",
    "        _type_: 最近的路点的索引\n",
    "    \"\"\"\n",
    "    dists = []\n",
    "    for xy in refer_path:\n",
    "        dis = np.linalg.norm(robot_state-xy)\n",
    "        dists.append(dis)\n",
    "\n",
    "    min_index = np.argmin(dists)\n",
    "    return min_index"
   ]
  },
  {
   "cell_type": "markdown",
   "metadata": {},
   "source": [
    "主函数"
   ]
  },
  {
   "cell_type": "code",
   "execution_count": 20,
   "metadata": {},
   "outputs": [
    {
     "data": {
      "image/png": "[encoded data removed]",
      "text/plain": [
       "<Figure size 432x288 with 1 Axes>"
      ]
     },
     "metadata": {
      "needs_background": "light"
     },
     "output_type": "display_data"
    }
   ],
   "source": [
    "from scipy.spatial import KDTree\n",
    "\n",
    "# set reference trajectory\n",
    "refer_path = np.zeros((1000, 2))\n",
    "refer_path[:,0] = np.linspace(0, 100, 1000) # 直线\n",
    "refer_path[:,1] = 2*np.sin(refer_path[:,0]/3.0)#+2.5*np.cos(refer_path[:,0]/2.0) # 生成正弦轨迹\n",
    "refer_tree = KDTree(refer_path)  # reference trajectory\n",
    "plt.figure(1)\n",
    "# plt.axis([0,18,-3, 3])\n",
    "plt.plot(refer_path[:,0], refer_path[:,1], '-.b', linewidth=1.0)\n",
    "\n",
    "\n",
    "# 假设初始状态为x=0,y=-1,偏航角=0.5rad，前后轴距离2m，速度为2m/s，时间步为0.1秒\n",
    "ugv = KinematicModel_3(0,-1,0.5,2,2,0.1)\n",
    "k=0.1\n",
    "c=2\n",
    "pind=0\n",
    "ind = 0\n",
    "x_ = []\n",
    "y_ = []\n",
    "for i in range(550):\n",
    "    robot_state = np.zeros(2)\n",
    "    robot_state[0] = ugv.x\n",
    "    robot_state[1] = ugv.y\n",
    "    distance, ind = refer_tree.query(robot_state) # 在参考轨迹上查询离robot_state最近的点\n",
    "    # ind = cal_target_index(robot_state,refer_path)  # 使用简单的一个函数实现查询离robot_state最近的点，耗时比较长\n",
    "    if ind < pind:\n",
    "        ind = pind\n",
    "    else:\n",
    "        pind = ind\n",
    "\n",
    "    alpha = math.atan2(refer_path[ind, 1]-robot_state[1], refer_path[ind, 0]-robot_state[0])\n",
    "    l_d = np.linalg.norm(refer_path[ind]-robot_state)\n",
    "    # l_d = k*ugv.v+c  # 前视距离\n",
    "    theta_e = alpha-ugv.psi\n",
    "    e_y = -l_d*math.sin(theta_e)  # 与博客中公式相比多了个负号，我目前还不是太理解，暂时先放着\n",
    "    # e_y = -l_d*np.sign(math.sin(theta_e))  # 第二种误差表示\n",
    "    # e_y = robot_state[1]-refer_path[ind, 1] #第三种误差表示\n",
    "    # PID.set_target(0)\n",
    "    # print(refer_path[i,1])\n",
    "    delta_f = PID.cal_output(e_y)\n",
    "    # print(e_y)\n",
    "    # print(alpha)\n",
    "    ugv.update_state(0,delta_f) # 加速度设为0\n",
    "\n",
    "    x_.append(ugv.x)\n",
    "    y_.append(ugv.y)\n",
    "plt.plot(x_,y_,'r')\n",
    "plt.show()\n"
   ]
  }
 ],
 "metadata": {
  "interpreter": {
   "hash": "0c7484b3574347463e16b31029466871583b0d4e5c4ad861e8848f2d3746b4de"
  },
  "kernelspec": {
   "display_name": "Python 3.8.12 ('gobigger')",
   "language": "python",
   "name": "python3"
  },
  "language_info": {
   "codemirror_mode": {
    "name": "ipython",
    "version": 3
   },
   "file_extension": ".py",
   "mimetype": "text/x-python",
   "name": "python",
   "nbconvert_exporter": "python",
   "pygments_lexer": "ipython3",
   "version": "3.8.12"
  },
  "orig_nbformat": 4
 },
 "nbformat": 4,
 "nbformat_minor": 2
}
