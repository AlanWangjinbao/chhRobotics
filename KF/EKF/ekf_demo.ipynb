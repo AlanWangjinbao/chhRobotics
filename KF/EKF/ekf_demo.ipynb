{
 "cells": [
  {
   "cell_type": "markdown",
   "metadata": {},
   "source": [
    "## EKF\n",
    "使用EKF进行移动机器人的位姿预测，见相关[博客](https://blog.csdn.net/weixin_42301220/article/details/124605350?csdn_share_tail=%7B%22type%22%3A%22blog%22%2C%22rType%22%3A%22article%22%2C%22rId%22%3A%22124605350%22%2C%22source%22%3A%22weixin_42301220%22%7D&ctrtid=Diyk2)"
   ]
  },
  {
   "cell_type": "code",
   "execution_count": 116,
   "metadata": {},
   "outputs": [],
   "source": [
    "import PyQt5\n"
   ]
  },
  {
   "cell_type": "code",
   "execution_count": 117,
   "metadata": {},
   "outputs": [],
   "source": [
    "import math\n",
    "import matplotlib\n",
    "import matplotlib.pyplot as plt\n",
    "# %matplotlib inline\n",
    "%matplotlib qt5\n",
    "\n",
    "# # set up matplotlib\n",
    "# is_ipython = 'inline' in matplotlib.get_backend()\n",
    "# if is_ipython:\n",
    "#     from IPython import display\n",
    "\n",
    "plt.ion()\n",
    "\n",
    "\n",
    "import numpy as np\n",
    "from scipy.spatial.transform import Rotation as Rot"
   ]
  },
  {
   "cell_type": "markdown",
   "metadata": {},
   "source": [
    "设置过程噪声和观测噪声的协方差矩阵"
   ]
  },
  {
   "cell_type": "code",
   "execution_count": 118,
   "metadata": {},
   "outputs": [],
   "source": [
    "Q = np.matrix([[0.1, 0, 0, 0],  # variance of location on x-axis\n",
    "        [0, 0.1, 0, 0],  # variance of location on y-axis\n",
    "        [0, 0, np.deg2rad(1.0), 0],  # variance of yaw angle\n",
    "        [0, 0, 0, 1.0]])**2  # variance of velocity\n",
    "\n",
    "R = np.matrix([[1.0,0.0],[0.0,1.0]])**2"
   ]
  },
  {
   "cell_type": "markdown",
   "metadata": {},
   "source": [
    "仿真参数"
   ]
  },
  {
   "cell_type": "code",
   "execution_count": 119,
   "metadata": {},
   "outputs": [],
   "source": [
    "#  Simulation parameter\n",
    "INPUT_NOISE = np.diag([1.0, np.deg2rad(30.0)]) ** 2\n",
    "GPS_NOISE = np.diag([0.5, 0.5]) ** 2\n",
    "\n",
    "DT = 0.1  # time tick [s]\n",
    "SIM_TIME = 50.0  # simulation time [s]\n",
    "\n",
    "show_animation = True\n",
    "\n"
   ]
  },
  {
   "cell_type": "markdown",
   "metadata": {},
   "source": [
    "状态向量\n",
    "\n",
    "x_t = [x,y,yaw,v]\n",
    "\n",
    "控制输入为\n",
    "\n",
    "u = [v,w]"
   ]
  },
  {
   "cell_type": "markdown",
   "metadata": {},
   "source": [
    "控制输入表示"
   ]
  },
  {
   "cell_type": "code",
   "execution_count": 120,
   "metadata": {},
   "outputs": [],
   "source": [
    "def control_input():\n",
    "    v = 1.0  # 线速度，m/s\n",
    "    yaw_rate = 0.1  #角速度，rad/s\n",
    "    u = np.matrix([\n",
    "            [v],\n",
    "            [yaw_rate]\n",
    "            ])\n",
    "    return u"
   ]
  },
  {
   "cell_type": "markdown",
   "metadata": {},
   "source": [
    "观测模型"
   ]
  },
  {
   "cell_type": "code",
   "execution_count": 121,
   "metadata": {},
   "outputs": [],
   "source": [
    "def observation_model(x):\n",
    "    H = np.matrix([[1.0,0,0,0],[0,1.0,0,0]])\n",
    "    z = H@x\n",
    "    return z\n"
   ]
  },
  {
   "cell_type": "markdown",
   "metadata": {},
   "source": [
    "过程模型（状态方程）"
   ]
  },
  {
   "cell_type": "code",
   "execution_count": 122,
   "metadata": {},
   "outputs": [],
   "source": [
    "def motion_model(x,u):\n",
    "    F = np.matrix([\n",
    "            [1.0,0,0,0],\n",
    "            [0,1.0,0,0],\n",
    "            [0,0,1.0,0],\n",
    "            [0,0,0,0]\n",
    "            ])\n",
    "    B = np.matrix([\n",
    "            [DT*np.cos(x[2,0]),0],\n",
    "            [DT*np.sin(x[2,0]),0],\n",
    "            [0,DT],\n",
    "            [1.0,0]\n",
    "            ])\n",
    "    x = F@x+B@u\n",
    "    return x\n",
    "    "
   ]
  },
  {
   "cell_type": "markdown",
   "metadata": {},
   "source": [
    "观测向量获取"
   ]
  },
  {
   "cell_type": "code",
   "execution_count": 123,
   "metadata": {},
   "outputs": [],
   "source": [
    "def observation(x_true, x_d,u):\n",
    "    x_true = motion_model(x_true,u)\n",
    "    # add noise to gps x-y\n",
    "    z = observation_model(x_true) + GPS_NOISE @ np.random.randn(2, 1)\n",
    "\n",
    "    # add noise to input\n",
    "    ud = u + INPUT_NOISE @ np.random.randn(2, 1)\n",
    "\n",
    "    xd = motion_model(x_d, ud)\n",
    "\n",
    "    return x_true, z, xd, ud\n"
   ]
  },
  {
   "cell_type": "markdown",
   "metadata": {},
   "source": [
    "F的雅可比矩阵定义"
   ]
  },
  {
   "cell_type": "code",
   "execution_count": 124,
   "metadata": {},
   "outputs": [],
   "source": [
    "def jacob_f(x,u):\n",
    "    \"\"\"\n",
    "    Jacobian of Motion Model\n",
    "\n",
    "    motion model\n",
    "    x_{t+1} = x_t+v*dt*cos(yaw)\n",
    "    y_{t+1} = y_t+v*dt*sin(yaw)\n",
    "    yaw_{t+1} = yaw_t+omega*dt\n",
    "    v_{t+1} = v{t}\n",
    "    so\n",
    "    dx/dyaw = -v*dt*sin(yaw)\n",
    "    dx/dv = dt*cos(yaw)\n",
    "    dy/dyaw = v*dt*cos(yaw)\n",
    "    dy/dv = dt*sin(yaw)\n",
    "    \"\"\"\n",
    "    yaw = x[2,0]\n",
    "    v = u[0,0]\n",
    "    J_F = np.matrix([\n",
    "            [1.0,0.0,-v*np.sin(yaw)*DT,np.cos(yaw)*DT],\n",
    "            [0.0,1.0,v*np.cos(yaw)*DT,np.sin(yaw)*DT],\n",
    "            [0,0,1,0],\n",
    "            [0,0,0,1]\n",
    "            ])\n",
    "    return J_F\n"
   ]
  },
  {
   "cell_type": "markdown",
   "metadata": {},
   "source": [
    "H的雅可比矩阵定义"
   ]
  },
  {
   "cell_type": "code",
   "execution_count": 125,
   "metadata": {},
   "outputs": [],
   "source": [
    "def jacob_h():\n",
    "    \"\"\"\n",
    "    Jacobian of Observation Model\n",
    "    \"\"\"\n",
    "    J_H = np.matrix([[1.0,0,0,0],[0,1.0,0,0]])\n",
    "    return J_H"
   ]
  },
  {
   "cell_type": "markdown",
   "metadata": {},
   "source": [
    "ekf估计"
   ]
  },
  {
   "cell_type": "code",
   "execution_count": 126,
   "metadata": {},
   "outputs": [],
   "source": [
    "def ekf_estimation(x_esti,P_esti,z,u):\n",
    "    \"\"\"两个阶段，预测和更新\n",
    "\n",
    "    Args:\n",
    "        x_esti (_type_): 估计的状态\n",
    "        P_esti (_type_): 估计的P矩阵（后验估计误差协方差矩阵）\n",
    "        z (_type_): 观测向量\n",
    "        u (_type_): 控制输入\n",
    "    \"\"\"\n",
    "    #  Predict\n",
    "    x_pred = motion_model(x_esti,u)\n",
    "    J_F = jacob_f(x_esti,u)\n",
    "    P_pred = J_F@P_esti@J_F.T+Q\n",
    "\n",
    "    # update\n",
    "    J_H = jacob_h()\n",
    "    z_pred = observation_model(x_pred)\n",
    "    y = z-z_pred\n",
    "    S = J_H@P_pred@J_H.T+R\n",
    "    K = P_pred@J_H.T@np.linalg.pinv(S)\n",
    "    x_esti = x_pred+K@y\n",
    "    P_esti = (np.eye(len(x_esti))-K@J_H)@P_pred\n",
    "    return x_esti,P_esti"
   ]
  },
  {
   "cell_type": "markdown",
   "metadata": {},
   "source": [
    "画图"
   ]
  },
  {
   "cell_type": "code",
   "execution_count": 127,
   "metadata": {},
   "outputs": [],
   "source": [
    "def plot_covariance_ellipse(x_esti, P_esti):  # pragma: no cover\n",
    "    Pxy = P_esti[0:2, 0:2]\n",
    "    # 计算方形矩阵的特征值和特征向量\n",
    "    eigval, eigvec = np.linalg.eig(Pxy)\n",
    "\n",
    "    if eigval[0] >= eigval[1]:\n",
    "        bigind = 0\n",
    "        smallind = 1\n",
    "    else:\n",
    "        bigind = 1\n",
    "        smallind = 0\n",
    "\n",
    "    t = np.arange(0, 2 * math.pi + 0.1, 0.1)\n",
    "    a = math.sqrt(eigval[bigind])\n",
    "    b = math.sqrt(eigval[smallind])\n",
    "    x = [a * math.cos(it) for it in t]\n",
    "    y = [b * math.sin(it) for it in t]\n",
    "    angle = math.atan2(eigvec[1, bigind], eigvec[0, bigind])\n",
    "    rot = Rot.from_euler('z', angle).as_matrix()[0:2, 0:2]\n",
    "    fx = rot @ (np.array([x, y]))\n",
    "    px = np.array(fx[0, :] + x_esti[0, 0]).flatten()\n",
    "    py = np.array(fx[1, :] + x_esti[1, 0]).flatten()\n",
    "    plt.plot(px, py, \"--r\")\n"
   ]
  },
  {
   "cell_type": "markdown",
   "metadata": {},
   "source": [
    "主函数入口"
   ]
  },
  {
   "cell_type": "code",
   "execution_count": 128,
   "metadata": {},
   "outputs": [],
   "source": [
    "def main():\n",
    "    time=0.0\n",
    "    # State Vector [x y yaw v]'\n",
    "    x_esti = np.zeros((4,1))\n",
    "    x_true = np.zeros((4,1))\n",
    "    P_esti = np.eye(4)\n",
    "    # Dead reckoning\n",
    "    x_dr = np.zeros((4,1))\n",
    "\n",
    "    # history\n",
    "    h_x_esti = x_esti\n",
    "    h_x_true = x_true\n",
    "    h_x_dr = x_dr\n",
    "    h_z = np.zeros((2, 1))\n",
    "\n",
    "\n",
    "    while SIM_TIME>=time:\n",
    "        time += DT\n",
    "        u = control_input()\n",
    "        x_true, z, x_dr, ud = observation(x_true, x_dr, u)\n",
    "        \n",
    "        x_esti, P_esti = ekf_estimation(x_esti,P_esti,z,ud)\n",
    "\n",
    "        # store data history\n",
    "        h_x_esti = np.hstack((h_x_esti, x_esti))\n",
    "        h_x_dr = np.hstack((h_x_dr, x_dr))\n",
    "        h_x_true = np.hstack((h_x_true, x_true))\n",
    "        h_z = np.hstack((h_z, z))\n",
    "\n",
    "        if show_animation:\n",
    "            plt.cla()\n",
    "            # for stopping simulation with the esc key.\n",
    "            plt.gcf().canvas.mpl_connect('key_release_event',\n",
    "                lambda event: [exit(0) if event.key == 'escape' else None])\n",
    "            plt.plot(h_z[0, :], h_z[1, :], \".g\")\n",
    "            plt.plot(h_x_true[0, :].flatten(),\n",
    "                    h_x_true[1, :].flatten(), \"-b\")\n",
    "            plt.plot(h_x_dr[0, :].flatten(),\n",
    "                    h_x_dr[1, :].flatten(), \"-k\")\n",
    "            plt.plot(h_x_esti[0, :].flatten(),\n",
    "                    h_x_esti[1, :].flatten(), \"-r\")\n",
    "            plot_covariance_ellipse(x_esti, P_esti)\n",
    "            plt.axis(\"equal\")\n",
    "            plt.grid(True)\n",
    "            plt.pause(0.001)\n"
   ]
  },
  {
   "cell_type": "code",
   "execution_count": 129,
   "metadata": {},
   "outputs": [
    {
     "ename": "KeyboardInterrupt",
     "evalue": "",
     "output_type": "error",
     "traceback": [
      "\u001b[1;31m---------------------------------------------------------------------------\u001b[0m",
      "\u001b[1;31mKeyboardInterrupt\u001b[0m                         Traceback (most recent call last)",
      "\u001b[1;32me:\\CHH3213_KING\\研究生\\导师\\就业规划\\自动驾驶\\chhRobotics\\KF\\EKF\\ekf_demo.ipynb Cell 27'\u001b[0m in \u001b[0;36m<cell line: 1>\u001b[1;34m()\u001b[0m\n\u001b[1;32m----> <a href='vscode-notebook-cell:/e%3A/CHH3213_KING/%E7%A0%94%E7%A9%B6%E7%94%9F/%E5%AF%BC%E5%B8%88/%E5%B0%B1%E4%B8%9A%E8%A7%84%E5%88%92/%E8%87%AA%E5%8A%A8%E9%A9%BE%E9%A9%B6/chhRobotics/KF/EKF/ekf_demo.ipynb#ch0000030?line=0'>1</a>\u001b[0m main()\n",
      "\u001b[1;32me:\\CHH3213_KING\\研究生\\导师\\就业规划\\自动驾驶\\chhRobotics\\KF\\EKF\\ekf_demo.ipynb Cell 26'\u001b[0m in \u001b[0;36mmain\u001b[1;34m()\u001b[0m\n\u001b[0;32m     <a href='vscode-notebook-cell:/e%3A/CHH3213_KING/%E7%A0%94%E7%A9%B6%E7%94%9F/%E5%AF%BC%E5%B8%88/%E5%B0%B1%E4%B8%9A%E8%A7%84%E5%88%92/%E8%87%AA%E5%8A%A8%E9%A9%BE%E9%A9%B6/chhRobotics/KF/EKF/ekf_demo.ipynb#ch0000029?line=35'>36</a>\u001b[0m plt\u001b[39m.\u001b[39mplot(h_x_true[\u001b[39m0\u001b[39m, :]\u001b[39m.\u001b[39mflatten(),\n\u001b[0;32m     <a href='vscode-notebook-cell:/e%3A/CHH3213_KING/%E7%A0%94%E7%A9%B6%E7%94%9F/%E5%AF%BC%E5%B8%88/%E5%B0%B1%E4%B8%9A%E8%A7%84%E5%88%92/%E8%87%AA%E5%8A%A8%E9%A9%BE%E9%A9%B6/chhRobotics/KF/EKF/ekf_demo.ipynb#ch0000029?line=36'>37</a>\u001b[0m         h_x_true[\u001b[39m1\u001b[39m, :]\u001b[39m.\u001b[39mflatten(), \u001b[39m\"\u001b[39m\u001b[39m-b\u001b[39m\u001b[39m\"\u001b[39m)\n\u001b[0;32m     <a href='vscode-notebook-cell:/e%3A/CHH3213_KING/%E7%A0%94%E7%A9%B6%E7%94%9F/%E5%AF%BC%E5%B8%88/%E5%B0%B1%E4%B8%9A%E8%A7%84%E5%88%92/%E8%87%AA%E5%8A%A8%E9%A9%BE%E9%A9%B6/chhRobotics/KF/EKF/ekf_demo.ipynb#ch0000029?line=37'>38</a>\u001b[0m plt\u001b[39m.\u001b[39mplot(h_x_dr[\u001b[39m0\u001b[39m, :]\u001b[39m.\u001b[39mflatten(),\n\u001b[0;32m     <a href='vscode-notebook-cell:/e%3A/CHH3213_KING/%E7%A0%94%E7%A9%B6%E7%94%9F/%E5%AF%BC%E5%B8%88/%E5%B0%B1%E4%B8%9A%E8%A7%84%E5%88%92/%E8%87%AA%E5%8A%A8%E9%A9%BE%E9%A9%B6/chhRobotics/KF/EKF/ekf_demo.ipynb#ch0000029?line=38'>39</a>\u001b[0m         h_x_dr[\u001b[39m1\u001b[39m, :]\u001b[39m.\u001b[39mflatten(), \u001b[39m\"\u001b[39m\u001b[39m-k\u001b[39m\u001b[39m\"\u001b[39m)\n\u001b[1;32m---> <a href='vscode-notebook-cell:/e%3A/CHH3213_KING/%E7%A0%94%E7%A9%B6%E7%94%9F/%E5%AF%BC%E5%B8%88/%E5%B0%B1%E4%B8%9A%E8%A7%84%E5%88%92/%E8%87%AA%E5%8A%A8%E9%A9%BE%E9%A9%B6/chhRobotics/KF/EKF/ekf_demo.ipynb#ch0000029?line=39'>40</a>\u001b[0m plt\u001b[39m.\u001b[39;49mplot(h_x_esti[\u001b[39m0\u001b[39;49m, :]\u001b[39m.\u001b[39;49mflatten(),\n\u001b[0;32m     <a href='vscode-notebook-cell:/e%3A/CHH3213_KING/%E7%A0%94%E7%A9%B6%E7%94%9F/%E5%AF%BC%E5%B8%88/%E5%B0%B1%E4%B8%9A%E8%A7%84%E5%88%92/%E8%87%AA%E5%8A%A8%E9%A9%BE%E9%A9%B6/chhRobotics/KF/EKF/ekf_demo.ipynb#ch0000029?line=40'>41</a>\u001b[0m         h_x_esti[\u001b[39m1\u001b[39;49m, :]\u001b[39m.\u001b[39;49mflatten(), \u001b[39m\"\u001b[39;49m\u001b[39m-r\u001b[39;49m\u001b[39m\"\u001b[39;49m)\n\u001b[0;32m     <a href='vscode-notebook-cell:/e%3A/CHH3213_KING/%E7%A0%94%E7%A9%B6%E7%94%9F/%E5%AF%BC%E5%B8%88/%E5%B0%B1%E4%B8%9A%E8%A7%84%E5%88%92/%E8%87%AA%E5%8A%A8%E9%A9%BE%E9%A9%B6/chhRobotics/KF/EKF/ekf_demo.ipynb#ch0000029?line=41'>42</a>\u001b[0m plot_covariance_ellipse(x_esti, P_esti)\n\u001b[0;32m     <a href='vscode-notebook-cell:/e%3A/CHH3213_KING/%E7%A0%94%E7%A9%B6%E7%94%9F/%E5%AF%BC%E5%B8%88/%E5%B0%B1%E4%B8%9A%E8%A7%84%E5%88%92/%E8%87%AA%E5%8A%A8%E9%A9%BE%E9%A9%B6/chhRobotics/KF/EKF/ekf_demo.ipynb#ch0000029?line=42'>43</a>\u001b[0m plt\u001b[39m.\u001b[39maxis(\u001b[39m\"\u001b[39m\u001b[39mequal\u001b[39m\u001b[39m\"\u001b[39m)\n",
      "File \u001b[1;32mD:\\ProgramData\\Anaconda3\\envs\\gobigger\\lib\\site-packages\\matplotlib\\pyplot.py:2757\u001b[0m, in \u001b[0;36mplot\u001b[1;34m(scalex, scaley, data, *args, **kwargs)\u001b[0m\n\u001b[0;32m   <a href='file:///d%3A/ProgramData/Anaconda3/envs/gobigger/lib/site-packages/matplotlib/pyplot.py?line=2754'>2755</a>\u001b[0m \u001b[39m@_copy_docstring_and_deprecators\u001b[39m(Axes\u001b[39m.\u001b[39mplot)\n\u001b[0;32m   <a href='file:///d%3A/ProgramData/Anaconda3/envs/gobigger/lib/site-packages/matplotlib/pyplot.py?line=2755'>2756</a>\u001b[0m \u001b[39mdef\u001b[39;00m \u001b[39mplot\u001b[39m(\u001b[39m*\u001b[39margs, scalex\u001b[39m=\u001b[39m\u001b[39mTrue\u001b[39;00m, scaley\u001b[39m=\u001b[39m\u001b[39mTrue\u001b[39;00m, data\u001b[39m=\u001b[39m\u001b[39mNone\u001b[39;00m, \u001b[39m*\u001b[39m\u001b[39m*\u001b[39mkwargs):\n\u001b[1;32m-> <a href='file:///d%3A/ProgramData/Anaconda3/envs/gobigger/lib/site-packages/matplotlib/pyplot.py?line=2756'>2757</a>\u001b[0m     \u001b[39mreturn\u001b[39;00m gca()\u001b[39m.\u001b[39;49mplot(\n\u001b[0;32m   <a href='file:///d%3A/ProgramData/Anaconda3/envs/gobigger/lib/site-packages/matplotlib/pyplot.py?line=2757'>2758</a>\u001b[0m         \u001b[39m*\u001b[39;49margs, scalex\u001b[39m=\u001b[39;49mscalex, scaley\u001b[39m=\u001b[39;49mscaley,\n\u001b[0;32m   <a href='file:///d%3A/ProgramData/Anaconda3/envs/gobigger/lib/site-packages/matplotlib/pyplot.py?line=2758'>2759</a>\u001b[0m         \u001b[39m*\u001b[39;49m\u001b[39m*\u001b[39;49m({\u001b[39m\"\u001b[39;49m\u001b[39mdata\u001b[39;49m\u001b[39m\"\u001b[39;49m: data} \u001b[39mif\u001b[39;49;00m data \u001b[39mis\u001b[39;49;00m \u001b[39mnot\u001b[39;49;00m \u001b[39mNone\u001b[39;49;00m \u001b[39melse\u001b[39;49;00m {}), \u001b[39m*\u001b[39;49m\u001b[39m*\u001b[39;49mkwargs)\n",
      "File \u001b[1;32mD:\\ProgramData\\Anaconda3\\envs\\gobigger\\lib\\site-packages\\matplotlib\\axes\\_axes.py:1634\u001b[0m, in \u001b[0;36mAxes.plot\u001b[1;34m(self, scalex, scaley, data, *args, **kwargs)\u001b[0m\n\u001b[0;32m   <a href='file:///d%3A/ProgramData/Anaconda3/envs/gobigger/lib/site-packages/matplotlib/axes/_axes.py?line=1631'>1632</a>\u001b[0m lines \u001b[39m=\u001b[39m [\u001b[39m*\u001b[39m\u001b[39mself\u001b[39m\u001b[39m.\u001b[39m_get_lines(\u001b[39m*\u001b[39margs, data\u001b[39m=\u001b[39mdata, \u001b[39m*\u001b[39m\u001b[39m*\u001b[39mkwargs)]\n\u001b[0;32m   <a href='file:///d%3A/ProgramData/Anaconda3/envs/gobigger/lib/site-packages/matplotlib/axes/_axes.py?line=1632'>1633</a>\u001b[0m \u001b[39mfor\u001b[39;00m line \u001b[39min\u001b[39;00m lines:\n\u001b[1;32m-> <a href='file:///d%3A/ProgramData/Anaconda3/envs/gobigger/lib/site-packages/matplotlib/axes/_axes.py?line=1633'>1634</a>\u001b[0m     \u001b[39mself\u001b[39;49m\u001b[39m.\u001b[39;49madd_line(line)\n\u001b[0;32m   <a href='file:///d%3A/ProgramData/Anaconda3/envs/gobigger/lib/site-packages/matplotlib/axes/_axes.py?line=1634'>1635</a>\u001b[0m \u001b[39mself\u001b[39m\u001b[39m.\u001b[39m_request_autoscale_view(scalex\u001b[39m=\u001b[39mscalex, scaley\u001b[39m=\u001b[39mscaley)\n\u001b[0;32m   <a href='file:///d%3A/ProgramData/Anaconda3/envs/gobigger/lib/site-packages/matplotlib/axes/_axes.py?line=1635'>1636</a>\u001b[0m \u001b[39mreturn\u001b[39;00m lines\n",
      "File \u001b[1;32mD:\\ProgramData\\Anaconda3\\envs\\gobigger\\lib\\site-packages\\matplotlib\\axes\\_base.py:2281\u001b[0m, in \u001b[0;36m_AxesBase.add_line\u001b[1;34m(self, line)\u001b[0m\n\u001b[0;32m   <a href='file:///d%3A/ProgramData/Anaconda3/envs/gobigger/lib/site-packages/matplotlib/axes/_base.py?line=2278'>2279</a>\u001b[0m \u001b[39mself\u001b[39m\u001b[39m.\u001b[39m_set_artist_props(line)\n\u001b[0;32m   <a href='file:///d%3A/ProgramData/Anaconda3/envs/gobigger/lib/site-packages/matplotlib/axes/_base.py?line=2279'>2280</a>\u001b[0m \u001b[39mif\u001b[39;00m line\u001b[39m.\u001b[39mget_clip_path() \u001b[39mis\u001b[39;00m \u001b[39mNone\u001b[39;00m:\n\u001b[1;32m-> <a href='file:///d%3A/ProgramData/Anaconda3/envs/gobigger/lib/site-packages/matplotlib/axes/_base.py?line=2280'>2281</a>\u001b[0m     line\u001b[39m.\u001b[39;49mset_clip_path(\u001b[39mself\u001b[39;49m\u001b[39m.\u001b[39;49mpatch)\n\u001b[0;32m   <a href='file:///d%3A/ProgramData/Anaconda3/envs/gobigger/lib/site-packages/matplotlib/axes/_base.py?line=2282'>2283</a>\u001b[0m \u001b[39mself\u001b[39m\u001b[39m.\u001b[39m_update_line_limits(line)\n\u001b[0;32m   <a href='file:///d%3A/ProgramData/Anaconda3/envs/gobigger/lib/site-packages/matplotlib/axes/_base.py?line=2283'>2284</a>\u001b[0m \u001b[39mif\u001b[39;00m \u001b[39mnot\u001b[39;00m line\u001b[39m.\u001b[39mget_label():\n",
      "File \u001b[1;32mD:\\ProgramData\\Anaconda3\\envs\\gobigger\\lib\\site-packages\\matplotlib\\artist.py:790\u001b[0m, in \u001b[0;36mArtist.set_clip_path\u001b[1;34m(self, path, transform)\u001b[0m\n\u001b[0;32m    <a href='file:///d%3A/ProgramData/Anaconda3/envs/gobigger/lib/site-packages/matplotlib/artist.py?line=786'>787</a>\u001b[0m \u001b[39mif\u001b[39;00m transform \u001b[39mis\u001b[39;00m \u001b[39mNone\u001b[39;00m:\n\u001b[0;32m    <a href='file:///d%3A/ProgramData/Anaconda3/envs/gobigger/lib/site-packages/matplotlib/artist.py?line=787'>788</a>\u001b[0m     \u001b[39mif\u001b[39;00m \u001b[39misinstance\u001b[39m(path, Rectangle):\n\u001b[0;32m    <a href='file:///d%3A/ProgramData/Anaconda3/envs/gobigger/lib/site-packages/matplotlib/artist.py?line=788'>789</a>\u001b[0m         \u001b[39mself\u001b[39m\u001b[39m.\u001b[39mclipbox \u001b[39m=\u001b[39m TransformedBbox(Bbox\u001b[39m.\u001b[39munit(),\n\u001b[1;32m--> <a href='file:///d%3A/ProgramData/Anaconda3/envs/gobigger/lib/site-packages/matplotlib/artist.py?line=789'>790</a>\u001b[0m                                        path\u001b[39m.\u001b[39;49mget_transform())\n\u001b[0;32m    <a href='file:///d%3A/ProgramData/Anaconda3/envs/gobigger/lib/site-packages/matplotlib/artist.py?line=790'>791</a>\u001b[0m         \u001b[39mself\u001b[39m\u001b[39m.\u001b[39m_clippath \u001b[39m=\u001b[39m \u001b[39mNone\u001b[39;00m\n\u001b[0;32m    <a href='file:///d%3A/ProgramData/Anaconda3/envs/gobigger/lib/site-packages/matplotlib/artist.py?line=791'>792</a>\u001b[0m         success \u001b[39m=\u001b[39m \u001b[39mTrue\u001b[39;00m\n",
      "File \u001b[1;32mD:\\ProgramData\\Anaconda3\\envs\\gobigger\\lib\\site-packages\\matplotlib\\patches.py:278\u001b[0m, in \u001b[0;36mPatch.get_transform\u001b[1;34m(self)\u001b[0m\n\u001b[0;32m    <a href='file:///d%3A/ProgramData/Anaconda3/envs/gobigger/lib/site-packages/matplotlib/patches.py?line=275'>276</a>\u001b[0m \u001b[39mdef\u001b[39;00m \u001b[39mget_transform\u001b[39m(\u001b[39mself\u001b[39m):\n\u001b[0;32m    <a href='file:///d%3A/ProgramData/Anaconda3/envs/gobigger/lib/site-packages/matplotlib/patches.py?line=276'>277</a>\u001b[0m     \u001b[39m\"\"\"Return the `~.transforms.Transform` applied to the `Patch`.\"\"\"\u001b[39;00m\n\u001b[1;32m--> <a href='file:///d%3A/ProgramData/Anaconda3/envs/gobigger/lib/site-packages/matplotlib/patches.py?line=277'>278</a>\u001b[0m     \u001b[39mreturn\u001b[39;00m \u001b[39mself\u001b[39;49m\u001b[39m.\u001b[39;49mget_patch_transform() \u001b[39m+\u001b[39m artist\u001b[39m.\u001b[39mArtist\u001b[39m.\u001b[39mget_transform(\u001b[39mself\u001b[39m)\n",
      "File \u001b[1;32mD:\\ProgramData\\Anaconda3\\envs\\gobigger\\lib\\site-packages\\matplotlib\\patches.py:754\u001b[0m, in \u001b[0;36mRectangle.get_patch_transform\u001b[1;34m(self)\u001b[0m\n\u001b[0;32m    <a href='file:///d%3A/ProgramData/Anaconda3/envs/gobigger/lib/site-packages/matplotlib/patches.py?line=746'>747</a>\u001b[0m \u001b[39mdef\u001b[39;00m \u001b[39mget_patch_transform\u001b[39m(\u001b[39mself\u001b[39m):\n\u001b[0;32m    <a href='file:///d%3A/ProgramData/Anaconda3/envs/gobigger/lib/site-packages/matplotlib/patches.py?line=747'>748</a>\u001b[0m     \u001b[39m# Note: This cannot be called until after this has been added to\u001b[39;00m\n\u001b[0;32m    <a href='file:///d%3A/ProgramData/Anaconda3/envs/gobigger/lib/site-packages/matplotlib/patches.py?line=748'>749</a>\u001b[0m     \u001b[39m# an Axes, otherwise unit conversion will fail. This makes it very\u001b[39;00m\n\u001b[0;32m    <a href='file:///d%3A/ProgramData/Anaconda3/envs/gobigger/lib/site-packages/matplotlib/patches.py?line=749'>750</a>\u001b[0m     \u001b[39m# important to call the accessor method and not directly access the\u001b[39;00m\n\u001b[0;32m    <a href='file:///d%3A/ProgramData/Anaconda3/envs/gobigger/lib/site-packages/matplotlib/patches.py?line=750'>751</a>\u001b[0m     \u001b[39m# transformation member variable.\u001b[39;00m\n\u001b[0;32m    <a href='file:///d%3A/ProgramData/Anaconda3/envs/gobigger/lib/site-packages/matplotlib/patches.py?line=751'>752</a>\u001b[0m     bbox \u001b[39m=\u001b[39m \u001b[39mself\u001b[39m\u001b[39m.\u001b[39mget_bbox()\n\u001b[0;32m    <a href='file:///d%3A/ProgramData/Anaconda3/envs/gobigger/lib/site-packages/matplotlib/patches.py?line=752'>753</a>\u001b[0m     \u001b[39mreturn\u001b[39;00m (transforms\u001b[39m.\u001b[39mBboxTransformTo(bbox)\n\u001b[1;32m--> <a href='file:///d%3A/ProgramData/Anaconda3/envs/gobigger/lib/site-packages/matplotlib/patches.py?line=753'>754</a>\u001b[0m             \u001b[39m+\u001b[39m transforms\u001b[39m.\u001b[39;49mAffine2D()\u001b[39m.\u001b[39;49mrotate_deg_around(\n\u001b[0;32m    <a href='file:///d%3A/ProgramData/Anaconda3/envs/gobigger/lib/site-packages/matplotlib/patches.py?line=754'>755</a>\u001b[0m                 bbox\u001b[39m.\u001b[39;49mx0, bbox\u001b[39m.\u001b[39;49my0, \u001b[39mself\u001b[39;49m\u001b[39m.\u001b[39;49mangle))\n",
      "File \u001b[1;32mD:\\ProgramData\\Anaconda3\\envs\\gobigger\\lib\\site-packages\\matplotlib\\transforms.py:2042\u001b[0m, in \u001b[0;36mAffine2D.rotate_deg_around\u001b[1;34m(self, x, y, degrees)\u001b[0m\n\u001b[0;32m   <a href='file:///d%3A/ProgramData/Anaconda3/envs/gobigger/lib/site-packages/matplotlib/transforms.py?line=2039'>2040</a>\u001b[0m \u001b[39m# Cast to float to avoid wraparound issues with uint8's\u001b[39;00m\n\u001b[0;32m   <a href='file:///d%3A/ProgramData/Anaconda3/envs/gobigger/lib/site-packages/matplotlib/transforms.py?line=2040'>2041</a>\u001b[0m x, y \u001b[39m=\u001b[39m \u001b[39mfloat\u001b[39m(x), \u001b[39mfloat\u001b[39m(y)\n\u001b[1;32m-> <a href='file:///d%3A/ProgramData/Anaconda3/envs/gobigger/lib/site-packages/matplotlib/transforms.py?line=2041'>2042</a>\u001b[0m \u001b[39mreturn\u001b[39;00m \u001b[39mself\u001b[39;49m\u001b[39m.\u001b[39;49mtranslate(\u001b[39m-\u001b[39;49mx, \u001b[39m-\u001b[39;49my)\u001b[39m.\u001b[39;49mrotate_deg(degrees)\u001b[39m.\u001b[39mtranslate(x, y)\n",
      "File \u001b[1;32mD:\\ProgramData\\Anaconda3\\envs\\gobigger\\lib\\site-packages\\matplotlib\\transforms.py:2020\u001b[0m, in \u001b[0;36mAffine2D.rotate_deg\u001b[1;34m(self, degrees)\u001b[0m\n\u001b[0;32m   <a href='file:///d%3A/ProgramData/Anaconda3/envs/gobigger/lib/site-packages/matplotlib/transforms.py?line=2011'>2012</a>\u001b[0m \u001b[39mdef\u001b[39;00m \u001b[39mrotate_deg\u001b[39m(\u001b[39mself\u001b[39m, degrees):\n\u001b[0;32m   <a href='file:///d%3A/ProgramData/Anaconda3/envs/gobigger/lib/site-packages/matplotlib/transforms.py?line=2012'>2013</a>\u001b[0m     \u001b[39m\"\"\"\u001b[39;00m\n\u001b[0;32m   <a href='file:///d%3A/ProgramData/Anaconda3/envs/gobigger/lib/site-packages/matplotlib/transforms.py?line=2013'>2014</a>\u001b[0m \u001b[39m    Add a rotation (in degrees) to this transform in place.\u001b[39;00m\n\u001b[0;32m   <a href='file:///d%3A/ProgramData/Anaconda3/envs/gobigger/lib/site-packages/matplotlib/transforms.py?line=2014'>2015</a>\u001b[0m \n\u001b[1;32m   (...)\u001b[0m\n\u001b[0;32m   <a href='file:///d%3A/ProgramData/Anaconda3/envs/gobigger/lib/site-packages/matplotlib/transforms.py?line=2017'>2018</a>\u001b[0m \u001b[39m    and :meth:`scale`.\u001b[39;00m\n\u001b[0;32m   <a href='file:///d%3A/ProgramData/Anaconda3/envs/gobigger/lib/site-packages/matplotlib/transforms.py?line=2018'>2019</a>\u001b[0m \u001b[39m    \"\"\"\u001b[39;00m\n\u001b[1;32m-> <a href='file:///d%3A/ProgramData/Anaconda3/envs/gobigger/lib/site-packages/matplotlib/transforms.py?line=2019'>2020</a>\u001b[0m     \u001b[39mreturn\u001b[39;00m \u001b[39mself\u001b[39;49m\u001b[39m.\u001b[39;49mrotate(math\u001b[39m.\u001b[39;49mradians(degrees))\n",
      "File \u001b[1;32mD:\\ProgramData\\Anaconda3\\envs\\gobigger\\lib\\site-packages\\matplotlib\\transforms.py:2008\u001b[0m, in \u001b[0;36mAffine2D.rotate\u001b[1;34m(self, theta)\u001b[0m\n\u001b[0;32m   <a href='file:///d%3A/ProgramData/Anaconda3/envs/gobigger/lib/site-packages/matplotlib/transforms.py?line=2004'>2005</a>\u001b[0m b \u001b[39m=\u001b[39m math\u001b[39m.\u001b[39msin(theta)\n\u001b[0;32m   <a href='file:///d%3A/ProgramData/Anaconda3/envs/gobigger/lib/site-packages/matplotlib/transforms.py?line=2005'>2006</a>\u001b[0m rotate_mtx \u001b[39m=\u001b[39m np\u001b[39m.\u001b[39marray([[a, \u001b[39m-\u001b[39mb, \u001b[39m0.0\u001b[39m], [b, a, \u001b[39m0.0\u001b[39m], [\u001b[39m0.0\u001b[39m, \u001b[39m0.0\u001b[39m, \u001b[39m1.0\u001b[39m]],\n\u001b[0;32m   <a href='file:///d%3A/ProgramData/Anaconda3/envs/gobigger/lib/site-packages/matplotlib/transforms.py?line=2006'>2007</a>\u001b[0m                       \u001b[39mfloat\u001b[39m)\n\u001b[1;32m-> <a href='file:///d%3A/ProgramData/Anaconda3/envs/gobigger/lib/site-packages/matplotlib/transforms.py?line=2007'>2008</a>\u001b[0m \u001b[39mself\u001b[39m\u001b[39m.\u001b[39m_mtx \u001b[39m=\u001b[39m np\u001b[39m.\u001b[39;49mdot(rotate_mtx, \u001b[39mself\u001b[39;49m\u001b[39m.\u001b[39;49m_mtx)\n\u001b[0;32m   <a href='file:///d%3A/ProgramData/Anaconda3/envs/gobigger/lib/site-packages/matplotlib/transforms.py?line=2008'>2009</a>\u001b[0m \u001b[39mself\u001b[39m\u001b[39m.\u001b[39minvalidate()\n\u001b[0;32m   <a href='file:///d%3A/ProgramData/Anaconda3/envs/gobigger/lib/site-packages/matplotlib/transforms.py?line=2009'>2010</a>\u001b[0m \u001b[39mreturn\u001b[39;00m \u001b[39mself\u001b[39m\n",
      "File \u001b[1;32m<__array_function__ internals>:180\u001b[0m, in \u001b[0;36mdot\u001b[1;34m(*args, **kwargs)\u001b[0m\n",
      "\u001b[1;31mKeyboardInterrupt\u001b[0m: "
     ]
    }
   ],
   "source": [
    "main()"
   ]
  }
 ],
 "metadata": {
  "interpreter": {
   "hash": "232f66ea714acf063792c091ef59ab4fef0f08291e88ae72d9c0d0d8efc52143"
  },
  "kernelspec": {
   "display_name": "Python 3.8.12 ('gobigger')",
   "language": "python",
   "name": "python3"
  },
  "language_info": {
   "codemirror_mode": {
    "name": "ipython",
    "version": 3
   },
   "file_extension": ".py",
   "mimetype": "text/x-python",
   "name": "python",
   "nbconvert_exporter": "python",
   "pygments_lexer": "ipython3",
   "version": "3.8.12"
  },
  "orig_nbformat": 4
 },
 "nbformat": 4,
 "nbformat_minor": 2
}
