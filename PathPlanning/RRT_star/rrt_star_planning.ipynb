{
 "cells": [
  {
   "cell_type": "markdown",
   "metadata": {},
   "source": [
    "###  基于采样的路径规划算法——RRT*\n",
    "\n",
    "博客参考：https://blog.csdn.net/weixin_42301220/article/details/125275337"
   ]
  },
  {
   "cell_type": "code",
   "execution_count": 1,
   "metadata": {},
   "outputs": [],
   "source": [
    "import math\n",
    "import os\n",
    "import sys\n",
    "\n",
    "import matplotlib.pyplot as plt\n",
    "from celluloid import Camera  # 保存动图时用，pip install celluloid\n",
    "\n",
    "sys.path.append(\"../RRT\")\n",
    "try:\n",
    "    from rrt_planning import RRT\n",
    "except ImportError:\n",
    "    raise\n",
    "\n",
    "show_animation = True\n",
    "\n",
    "%matplotlib qt5\n"
   ]
  },
  {
   "cell_type": "markdown",
   "metadata": {},
   "source": [
    "### RRT*\n",
    "\n",
    "由于许多代码复用RRT的，所以直接继承了RRT类"
   ]
  },
  {
   "cell_type": "code",
   "execution_count": null,
   "metadata": {},
   "outputs": [],
   "source": [
    "def main():\n",
    "    print(\"Start \")\n",
    "    fig = plt.figure(1)\n",
    "\n",
    "    camera = Camera(fig)  # 保存动图时使用\n",
    "    # camera = None # 不保存动图时，camara为None\n",
    "    show_animation = True\n",
    "    # ====Search Path with RRT====\n",
    "    obstacle_list = [\n",
    "        (5, 5, 1),\n",
    "        (3, 6, 2),\n",
    "        (3, 8, 2),\n",
    "        (3, 10, 2),\n",
    "        (7, 5, 2),\n",
    "        (9, 5, 2),\n",
    "        (8, 10, 1),\n",
    "        (6, 12, 1),\n",
    "    ]  # [x,y,size(radius)]\n",
    "\n",
    "    # Set Initial parameters\n",
    "    rrt_star = RRTStar(\n",
    "        start=[0, 0],\n",
    "        goal=[6, 10],\n",
    "        rand_area=[-2, 15],\n",
    "        obstacle_list=obstacle_list,\n",
    "        expand_dis=3,\n",
    "        robot_radius=0.8)\n",
    "    path = rrt_star.planning(animation=show_animation, camera=camera)\n",
    "\n",
    "    if path is None:\n",
    "        print(\"Cannot find path\")\n",
    "    else:\n",
    "        print(\"found path!!\")\n",
    "\n",
    "        # Draw final path\n",
    "        if show_animation:\n",
    "            rrt_star.draw_graph(camera=camera)\n",
    "            plt.plot([x for (x, y) in path], [y for (x, y) in path], 'r--')\n",
    "            plt.grid(True)\n",
    "            if camera != None:\n",
    "                camera.snap()\n",
    "                animation = camera.animate()\n",
    "                animation.save('trajectory.gif')\n",
    "    plt.show()\n",
    "\n",
    "\n",
    "\n",
    "\n",
    "main()\n"
   ]
  }
 ],
 "metadata": {
  "kernelspec": {
   "display_name": "Python 3.8.12 ('gobigger')",
   "language": "python",
   "name": "python3"
  },
  "language_info": {
   "codemirror_mode": {
    "name": "ipython",
    "version": 3
   },
   "file_extension": ".py",
   "mimetype": "text/x-python",
   "name": "python",
   "nbconvert_exporter": "python",
   "pygments_lexer": "ipython3",
   "version": "3.8.12"
  },
  "orig_nbformat": 4,
  "vscode": {
   "interpreter": {
    "hash": "0c7484b3574347463e16b31029466871583b0d4e5c4ad861e8848f2d3746b4de"
   }
  }
 },
 "nbformat": 4,
 "nbformat_minor": 2
}
